{
 "cells": [
  {
   "cell_type": "code",
   "execution_count": 1,
   "metadata": {},
   "outputs": [
    {
     "name": "stdout",
     "output_type": "stream",
     "text": [
      "Requirement already satisfied: langchain in c:\\users\\user\\appdata\\local\\programs\\python\\python312\\lib\\site-packages (0.1.11)\n",
      "Requirement already satisfied: PyYAML>=5.3 in c:\\users\\user\\appdata\\local\\programs\\python\\python312\\lib\\site-packages (from langchain) (6.0.1)\n",
      "Requirement already satisfied: SQLAlchemy<3,>=1.4 in c:\\users\\user\\appdata\\local\\programs\\python\\python312\\lib\\site-packages (from langchain) (2.0.28)\n",
      "Requirement already satisfied: aiohttp<4.0.0,>=3.8.3 in c:\\users\\user\\appdata\\local\\programs\\python\\python312\\lib\\site-packages (from langchain) (3.9.3)\n",
      "Requirement already satisfied: dataclasses-json<0.7,>=0.5.7 in c:\\users\\user\\appdata\\local\\programs\\python\\python312\\lib\\site-packages (from langchain) (0.6.4)\n",
      "Requirement already satisfied: jsonpatch<2.0,>=1.33 in c:\\users\\user\\appdata\\local\\programs\\python\\python312\\lib\\site-packages (from langchain) (1.33)\n",
      "Requirement already satisfied: langchain-community<0.1,>=0.0.25 in c:\\users\\user\\appdata\\local\\programs\\python\\python312\\lib\\site-packages (from langchain) (0.0.27)\n",
      "Requirement already satisfied: langchain-core<0.2,>=0.1.29 in c:\\users\\user\\appdata\\local\\programs\\python\\python312\\lib\\site-packages (from langchain) (0.1.37)\n",
      "Requirement already satisfied: langchain-text-splitters<0.1,>=0.0.1 in c:\\users\\user\\appdata\\local\\programs\\python\\python312\\lib\\site-packages (from langchain) (0.0.1)\n",
      "Requirement already satisfied: langsmith<0.2.0,>=0.1.17 in c:\\users\\user\\appdata\\local\\programs\\python\\python312\\lib\\site-packages (from langchain) (0.1.23)\n",
      "Requirement already satisfied: numpy<2,>=1 in c:\\users\\user\\appdata\\local\\programs\\python\\python312\\lib\\site-packages (from langchain) (1.26.4)\n",
      "Requirement already satisfied: pydantic<3,>=1 in c:\\users\\user\\appdata\\local\\programs\\python\\python312\\lib\\site-packages (from langchain) (2.6.3)\n",
      "Requirement already satisfied: requests<3,>=2 in c:\\users\\user\\appdata\\local\\programs\\python\\python312\\lib\\site-packages (from langchain) (2.31.0)\n",
      "Requirement already satisfied: tenacity<9.0.0,>=8.1.0 in c:\\users\\user\\appdata\\local\\programs\\python\\python312\\lib\\site-packages (from langchain) (8.2.3)\n",
      "Requirement already satisfied: aiosignal>=1.1.2 in c:\\users\\user\\appdata\\local\\programs\\python\\python312\\lib\\site-packages (from aiohttp<4.0.0,>=3.8.3->langchain) (1.3.1)\n",
      "Requirement already satisfied: attrs>=17.3.0 in c:\\users\\user\\appdata\\local\\programs\\python\\python312\\lib\\site-packages (from aiohttp<4.0.0,>=3.8.3->langchain) (23.2.0)\n",
      "Requirement already satisfied: frozenlist>=1.1.1 in c:\\users\\user\\appdata\\local\\programs\\python\\python312\\lib\\site-packages (from aiohttp<4.0.0,>=3.8.3->langchain) (1.4.1)\n",
      "Requirement already satisfied: multidict<7.0,>=4.5 in c:\\users\\user\\appdata\\local\\programs\\python\\python312\\lib\\site-packages (from aiohttp<4.0.0,>=3.8.3->langchain) (6.0.5)\n",
      "Requirement already satisfied: yarl<2.0,>=1.0 in c:\\users\\user\\appdata\\local\\programs\\python\\python312\\lib\\site-packages (from aiohttp<4.0.0,>=3.8.3->langchain) (1.9.4)\n",
      "Requirement already satisfied: marshmallow<4.0.0,>=3.18.0 in c:\\users\\user\\appdata\\local\\programs\\python\\python312\\lib\\site-packages (from dataclasses-json<0.7,>=0.5.7->langchain) (3.21.1)\n",
      "Requirement already satisfied: typing-inspect<1,>=0.4.0 in c:\\users\\user\\appdata\\local\\programs\\python\\python312\\lib\\site-packages (from dataclasses-json<0.7,>=0.5.7->langchain) (0.9.0)\n",
      "Requirement already satisfied: jsonpointer>=1.9 in c:\\users\\user\\appdata\\local\\programs\\python\\python312\\lib\\site-packages (from jsonpatch<2.0,>=1.33->langchain) (2.4)\n",
      "Requirement already satisfied: packaging<24.0,>=23.2 in c:\\users\\user\\appdata\\roaming\\python\\python312\\site-packages (from langchain-core<0.2,>=0.1.29->langchain) (23.2)\n",
      "Requirement already satisfied: orjson<4.0.0,>=3.9.14 in c:\\users\\user\\appdata\\local\\programs\\python\\python312\\lib\\site-packages (from langsmith<0.2.0,>=0.1.17->langchain) (3.10.3)\n",
      "Requirement already satisfied: annotated-types>=0.4.0 in c:\\users\\user\\appdata\\local\\programs\\python\\python312\\lib\\site-packages (from pydantic<3,>=1->langchain) (0.6.0)\n",
      "Requirement already satisfied: pydantic-core==2.16.3 in c:\\users\\user\\appdata\\local\\programs\\python\\python312\\lib\\site-packages (from pydantic<3,>=1->langchain) (2.16.3)\n",
      "Requirement already satisfied: typing-extensions>=4.6.1 in c:\\users\\user\\appdata\\local\\programs\\python\\python312\\lib\\site-packages (from pydantic<3,>=1->langchain) (4.10.0)\n",
      "Requirement already satisfied: charset-normalizer<4,>=2 in c:\\users\\user\\appdata\\local\\programs\\python\\python312\\lib\\site-packages (from requests<3,>=2->langchain) (3.3.2)\n",
      "Requirement already satisfied: idna<4,>=2.5 in c:\\users\\user\\appdata\\local\\programs\\python\\python312\\lib\\site-packages (from requests<3,>=2->langchain) (3.6)\n",
      "Requirement already satisfied: urllib3<3,>=1.21.1 in c:\\users\\user\\appdata\\local\\programs\\python\\python312\\lib\\site-packages (from requests<3,>=2->langchain) (2.2.1)\n",
      "Requirement already satisfied: certifi>=2017.4.17 in c:\\users\\user\\appdata\\local\\programs\\python\\python312\\lib\\site-packages (from requests<3,>=2->langchain) (2024.2.2)\n",
      "Requirement already satisfied: greenlet!=0.4.17 in c:\\users\\user\\appdata\\local\\programs\\python\\python312\\lib\\site-packages (from SQLAlchemy<3,>=1.4->langchain) (3.0.3)\n",
      "Requirement already satisfied: mypy-extensions>=0.3.0 in c:\\users\\user\\appdata\\local\\programs\\python\\python312\\lib\\site-packages (from typing-inspect<1,>=0.4.0->dataclasses-json<0.7,>=0.5.7->langchain) (1.0.0)\n",
      "Requirement already satisfied: openai in c:\\users\\user\\appdata\\local\\programs\\python\\python312\\lib\\site-packages (0.28.0)\n",
      "Requirement already satisfied: requests>=2.20 in c:\\users\\user\\appdata\\local\\programs\\python\\python312\\lib\\site-packages (from openai) (2.31.0)\n",
      "Requirement already satisfied: tqdm in c:\\users\\user\\appdata\\local\\programs\\python\\python312\\lib\\site-packages (from openai) (4.66.2)\n",
      "Requirement already satisfied: aiohttp in c:\\users\\user\\appdata\\local\\programs\\python\\python312\\lib\\site-packages (from openai) (3.9.3)\n",
      "Requirement already satisfied: charset-normalizer<4,>=2 in c:\\users\\user\\appdata\\local\\programs\\python\\python312\\lib\\site-packages (from requests>=2.20->openai) (3.3.2)\n",
      "Requirement already satisfied: idna<4,>=2.5 in c:\\users\\user\\appdata\\local\\programs\\python\\python312\\lib\\site-packages (from requests>=2.20->openai) (3.6)\n",
      "Requirement already satisfied: urllib3<3,>=1.21.1 in c:\\users\\user\\appdata\\local\\programs\\python\\python312\\lib\\site-packages (from requests>=2.20->openai) (2.2.1)\n",
      "Requirement already satisfied: certifi>=2017.4.17 in c:\\users\\user\\appdata\\local\\programs\\python\\python312\\lib\\site-packages (from requests>=2.20->openai) (2024.2.2)\n",
      "Requirement already satisfied: aiosignal>=1.1.2 in c:\\users\\user\\appdata\\local\\programs\\python\\python312\\lib\\site-packages (from aiohttp->openai) (1.3.1)\n",
      "Requirement already satisfied: attrs>=17.3.0 in c:\\users\\user\\appdata\\local\\programs\\python\\python312\\lib\\site-packages (from aiohttp->openai) (23.2.0)\n",
      "Requirement already satisfied: frozenlist>=1.1.1 in c:\\users\\user\\appdata\\local\\programs\\python\\python312\\lib\\site-packages (from aiohttp->openai) (1.4.1)\n",
      "Requirement already satisfied: multidict<7.0,>=4.5 in c:\\users\\user\\appdata\\local\\programs\\python\\python312\\lib\\site-packages (from aiohttp->openai) (6.0.5)\n",
      "Requirement already satisfied: yarl<2.0,>=1.0 in c:\\users\\user\\appdata\\local\\programs\\python\\python312\\lib\\site-packages (from aiohttp->openai) (1.9.4)\n",
      "Requirement already satisfied: colorama in c:\\users\\user\\appdata\\roaming\\python\\python312\\site-packages (from tqdm->openai) (0.4.6)\n",
      "Requirement already satisfied: requests in c:\\users\\user\\appdata\\local\\programs\\python\\python312\\lib\\site-packages (2.31.0)\n",
      "Requirement already satisfied: charset-normalizer<4,>=2 in c:\\users\\user\\appdata\\local\\programs\\python\\python312\\lib\\site-packages (from requests) (3.3.2)\n",
      "Requirement already satisfied: idna<4,>=2.5 in c:\\users\\user\\appdata\\local\\programs\\python\\python312\\lib\\site-packages (from requests) (3.6)\n",
      "Requirement already satisfied: urllib3<3,>=1.21.1 in c:\\users\\user\\appdata\\local\\programs\\python\\python312\\lib\\site-packages (from requests) (2.2.1)\n",
      "Requirement already satisfied: certifi>=2017.4.17 in c:\\users\\user\\appdata\\local\\programs\\python\\python312\\lib\\site-packages (from requests) (2024.2.2)\n",
      "Requirement already satisfied: duckduckgo-search in c:\\users\\user\\appdata\\local\\programs\\python\\python312\\lib\\site-packages (6.1.0)\n",
      "Requirement already satisfied: click>=8.1.7 in c:\\users\\user\\appdata\\local\\programs\\python\\python312\\lib\\site-packages (from duckduckgo-search) (8.1.7)\n",
      "Requirement already satisfied: pyreqwest-impersonate>=0.4.5 in c:\\users\\user\\appdata\\local\\programs\\python\\python312\\lib\\site-packages (from duckduckgo-search) (0.4.5)\n",
      "Requirement already satisfied: orjson>=3.10.3 in c:\\users\\user\\appdata\\local\\programs\\python\\python312\\lib\\site-packages (from duckduckgo-search) (3.10.3)\n",
      "Requirement already satisfied: colorama in c:\\users\\user\\appdata\\roaming\\python\\python312\\site-packages (from click>=8.1.7->duckduckgo-search) (0.4.6)\n",
      "Requirement already satisfied: wikipedia in c:\\users\\user\\appdata\\local\\programs\\python\\python312\\lib\\site-packages (1.4.0)\n",
      "Requirement already satisfied: beautifulsoup4 in c:\\users\\user\\appdata\\local\\programs\\python\\python312\\lib\\site-packages (from wikipedia) (4.12.3)\n",
      "Requirement already satisfied: requests<3.0.0,>=2.0.0 in c:\\users\\user\\appdata\\local\\programs\\python\\python312\\lib\\site-packages (from wikipedia) (2.31.0)\n",
      "Requirement already satisfied: charset-normalizer<4,>=2 in c:\\users\\user\\appdata\\local\\programs\\python\\python312\\lib\\site-packages (from requests<3.0.0,>=2.0.0->wikipedia) (3.3.2)\n",
      "Requirement already satisfied: idna<4,>=2.5 in c:\\users\\user\\appdata\\local\\programs\\python\\python312\\lib\\site-packages (from requests<3.0.0,>=2.0.0->wikipedia) (3.6)\n",
      "Requirement already satisfied: urllib3<3,>=1.21.1 in c:\\users\\user\\appdata\\local\\programs\\python\\python312\\lib\\site-packages (from requests<3.0.0,>=2.0.0->wikipedia) (2.2.1)\n",
      "Requirement already satisfied: certifi>=2017.4.17 in c:\\users\\user\\appdata\\local\\programs\\python\\python312\\lib\\site-packages (from requests<3.0.0,>=2.0.0->wikipedia) (2024.2.2)\n",
      "Requirement already satisfied: soupsieve>1.2 in c:\\users\\user\\appdata\\local\\programs\\python\\python312\\lib\\site-packages (from beautifulsoup4->wikipedia) (2.5)\n",
      "Requirement already satisfied: langchain-community in c:\\users\\user\\appdata\\local\\programs\\python\\python312\\lib\\site-packages (0.0.27)\n",
      "Collecting langchain-community\n",
      "  Downloading langchain_community-0.2.1-py3-none-any.whl.metadata (8.9 kB)\n",
      "Requirement already satisfied: PyYAML>=5.3 in c:\\users\\user\\appdata\\local\\programs\\python\\python312\\lib\\site-packages (from langchain-community) (6.0.1)\n",
      "Requirement already satisfied: SQLAlchemy<3,>=1.4 in c:\\users\\user\\appdata\\local\\programs\\python\\python312\\lib\\site-packages (from langchain-community) (2.0.28)\n",
      "Requirement already satisfied: aiohttp<4.0.0,>=3.8.3 in c:\\users\\user\\appdata\\local\\programs\\python\\python312\\lib\\site-packages (from langchain-community) (3.9.3)\n",
      "Requirement already satisfied: dataclasses-json<0.7,>=0.5.7 in c:\\users\\user\\appdata\\local\\programs\\python\\python312\\lib\\site-packages (from langchain-community) (0.6.4)\n",
      "Collecting langchain<0.3.0,>=0.2.0 (from langchain-community)\n",
      "  Downloading langchain-0.2.1-py3-none-any.whl.metadata (13 kB)\n",
      "Collecting langchain-core<0.3.0,>=0.2.0 (from langchain-community)\n",
      "  Downloading langchain_core-0.2.1-py3-none-any.whl.metadata (5.9 kB)\n",
      "Requirement already satisfied: langsmith<0.2.0,>=0.1.0 in c:\\users\\user\\appdata\\local\\programs\\python\\python312\\lib\\site-packages (from langchain-community) (0.1.23)\n",
      "Requirement already satisfied: numpy<2,>=1 in c:\\users\\user\\appdata\\local\\programs\\python\\python312\\lib\\site-packages (from langchain-community) (1.26.4)\n",
      "Requirement already satisfied: requests<3,>=2 in c:\\users\\user\\appdata\\local\\programs\\python\\python312\\lib\\site-packages (from langchain-community) (2.31.0)\n",
      "Requirement already satisfied: tenacity<9.0.0,>=8.1.0 in c:\\users\\user\\appdata\\local\\programs\\python\\python312\\lib\\site-packages (from langchain-community) (8.2.3)\n",
      "Requirement already satisfied: aiosignal>=1.1.2 in c:\\users\\user\\appdata\\local\\programs\\python\\python312\\lib\\site-packages (from aiohttp<4.0.0,>=3.8.3->langchain-community) (1.3.1)\n",
      "Requirement already satisfied: attrs>=17.3.0 in c:\\users\\user\\appdata\\local\\programs\\python\\python312\\lib\\site-packages (from aiohttp<4.0.0,>=3.8.3->langchain-community) (23.2.0)\n",
      "Requirement already satisfied: frozenlist>=1.1.1 in c:\\users\\user\\appdata\\local\\programs\\python\\python312\\lib\\site-packages (from aiohttp<4.0.0,>=3.8.3->langchain-community) (1.4.1)\n",
      "Requirement already satisfied: multidict<7.0,>=4.5 in c:\\users\\user\\appdata\\local\\programs\\python\\python312\\lib\\site-packages (from aiohttp<4.0.0,>=3.8.3->langchain-community) (6.0.5)\n",
      "Requirement already satisfied: yarl<2.0,>=1.0 in c:\\users\\user\\appdata\\local\\programs\\python\\python312\\lib\\site-packages (from aiohttp<4.0.0,>=3.8.3->langchain-community) (1.9.4)\n",
      "Requirement already satisfied: marshmallow<4.0.0,>=3.18.0 in c:\\users\\user\\appdata\\local\\programs\\python\\python312\\lib\\site-packages (from dataclasses-json<0.7,>=0.5.7->langchain-community) (3.21.1)\n",
      "Requirement already satisfied: typing-inspect<1,>=0.4.0 in c:\\users\\user\\appdata\\local\\programs\\python\\python312\\lib\\site-packages (from dataclasses-json<0.7,>=0.5.7->langchain-community) (0.9.0)\n",
      "Collecting langchain-text-splitters<0.3.0,>=0.2.0 (from langchain<0.3.0,>=0.2.0->langchain-community)\n",
      "  Downloading langchain_text_splitters-0.2.0-py3-none-any.whl.metadata (2.2 kB)\n",
      "Requirement already satisfied: pydantic<3,>=1 in c:\\users\\user\\appdata\\local\\programs\\python\\python312\\lib\\site-packages (from langchain<0.3.0,>=0.2.0->langchain-community) (2.6.3)\n",
      "Requirement already satisfied: jsonpatch<2.0,>=1.33 in c:\\users\\user\\appdata\\local\\programs\\python\\python312\\lib\\site-packages (from langchain-core<0.3.0,>=0.2.0->langchain-community) (1.33)\n",
      "Requirement already satisfied: packaging<24.0,>=23.2 in c:\\users\\user\\appdata\\roaming\\python\\python312\\site-packages (from langchain-core<0.3.0,>=0.2.0->langchain-community) (23.2)\n",
      "Requirement already satisfied: orjson<4.0.0,>=3.9.14 in c:\\users\\user\\appdata\\local\\programs\\python\\python312\\lib\\site-packages (from langsmith<0.2.0,>=0.1.0->langchain-community) (3.10.3)\n",
      "Requirement already satisfied: charset-normalizer<4,>=2 in c:\\users\\user\\appdata\\local\\programs\\python\\python312\\lib\\site-packages (from requests<3,>=2->langchain-community) (3.3.2)\n",
      "Requirement already satisfied: idna<4,>=2.5 in c:\\users\\user\\appdata\\local\\programs\\python\\python312\\lib\\site-packages (from requests<3,>=2->langchain-community) (3.6)\n",
      "Requirement already satisfied: urllib3<3,>=1.21.1 in c:\\users\\user\\appdata\\local\\programs\\python\\python312\\lib\\site-packages (from requests<3,>=2->langchain-community) (2.2.1)\n",
      "Requirement already satisfied: certifi>=2017.4.17 in c:\\users\\user\\appdata\\local\\programs\\python\\python312\\lib\\site-packages (from requests<3,>=2->langchain-community) (2024.2.2)\n",
      "Requirement already satisfied: typing-extensions>=4.6.0 in c:\\users\\user\\appdata\\local\\programs\\python\\python312\\lib\\site-packages (from SQLAlchemy<3,>=1.4->langchain-community) (4.10.0)\n",
      "Requirement already satisfied: greenlet!=0.4.17 in c:\\users\\user\\appdata\\local\\programs\\python\\python312\\lib\\site-packages (from SQLAlchemy<3,>=1.4->langchain-community) (3.0.3)\n",
      "Requirement already satisfied: jsonpointer>=1.9 in c:\\users\\user\\appdata\\local\\programs\\python\\python312\\lib\\site-packages (from jsonpatch<2.0,>=1.33->langchain-core<0.3.0,>=0.2.0->langchain-community) (2.4)\n",
      "Requirement already satisfied: annotated-types>=0.4.0 in c:\\users\\user\\appdata\\local\\programs\\python\\python312\\lib\\site-packages (from pydantic<3,>=1->langchain<0.3.0,>=0.2.0->langchain-community) (0.6.0)\n",
      "Requirement already satisfied: pydantic-core==2.16.3 in c:\\users\\user\\appdata\\local\\programs\\python\\python312\\lib\\site-packages (from pydantic<3,>=1->langchain<0.3.0,>=0.2.0->langchain-community) (2.16.3)\n",
      "Requirement already satisfied: mypy-extensions>=0.3.0 in c:\\users\\user\\appdata\\local\\programs\\python\\python312\\lib\\site-packages (from typing-inspect<1,>=0.4.0->dataclasses-json<0.7,>=0.5.7->langchain-community) (1.0.0)\n",
      "Downloading langchain_community-0.2.1-py3-none-any.whl (2.1 MB)\n",
      "   ---------------------------------------- 0.0/2.1 MB ? eta -:--:--\n",
      "    --------------------------------------- 0.0/2.1 MB 640.0 kB/s eta 0:00:04\n",
      "    --------------------------------------- 0.0/2.1 MB 388.9 kB/s eta 0:00:06\n",
      "   - -------------------------------------- 0.1/2.1 MB 655.4 kB/s eta 0:00:04\n",
      "   -- ------------------------------------- 0.1/2.1 MB 774.0 kB/s eta 0:00:03\n",
      "   ---- ----------------------------------- 0.2/2.1 MB 1.1 MB/s eta 0:00:02\n",
      "   ----- ---------------------------------- 0.3/2.1 MB 1.1 MB/s eta 0:00:02\n",
      "   --------- ------------------------------ 0.5/2.1 MB 1.5 MB/s eta 0:00:02\n",
      "   ---------- ----------------------------- 0.6/2.1 MB 1.6 MB/s eta 0:00:01\n",
      "   ------------ --------------------------- 0.7/2.1 MB 1.7 MB/s eta 0:00:01\n",
      "   ---------------- ----------------------- 0.9/2.1 MB 1.9 MB/s eta 0:00:01\n",
      "   ------------------- -------------------- 1.0/2.1 MB 2.0 MB/s eta 0:00:01\n",
      "   --------------------- ------------------ 1.1/2.1 MB 2.1 MB/s eta 0:00:01\n",
      "   ----------------------- ---------------- 1.2/2.1 MB 2.1 MB/s eta 0:00:01\n",
      "   ------------------------- -------------- 1.4/2.1 MB 2.1 MB/s eta 0:00:01\n",
      "   --------------------------- ------------ 1.5/2.1 MB 2.1 MB/s eta 0:00:01\n",
      "   ------------------------------ --------- 1.6/2.1 MB 2.2 MB/s eta 0:00:01\n",
      "   --------------------------------- ------ 1.8/2.1 MB 2.3 MB/s eta 0:00:01\n",
      "   ------------------------------------- -- 2.0/2.1 MB 2.4 MB/s eta 0:00:01\n",
      "   ---------------------------------------- 2.1/2.1 MB 2.4 MB/s eta 0:00:00\n",
      "Downloading langchain-0.2.1-py3-none-any.whl (973 kB)\n",
      "   ---------------------------------------- 0.0/973.5 kB ? eta -:--:--\n",
      "   ------ --------------------------------- 163.8/973.5 kB 5.0 MB/s eta 0:00:01\n",
      "   ------------- -------------------------- 337.9/973.5 kB 4.2 MB/s eta 0:00:01\n",
      "   -------------------- ------------------- 501.8/973.5 kB 3.9 MB/s eta 0:00:01\n",
      "   ---------------------------- ----------- 686.1/973.5 kB 3.9 MB/s eta 0:00:01\n",
      "   ------------------------------------- -- 901.1/973.5 kB 4.1 MB/s eta 0:00:01\n",
      "   ---------------------------------------- 973.5/973.5 kB 3.9 MB/s eta 0:00:00\n",
      "Downloading langchain_core-0.2.1-py3-none-any.whl (308 kB)\n",
      "   ---------------------------------------- 0.0/308.5 kB ? eta -:--:--\n",
      "   ------------------ --------------------- 143.4/308.5 kB 4.3 MB/s eta 0:00:01\n",
      "   ---------------------------------------  307.2/308.5 kB 3.8 MB/s eta 0:00:01\n",
      "   ---------------------------------------- 308.5/308.5 kB 3.2 MB/s eta 0:00:00\n",
      "Downloading langchain_text_splitters-0.2.0-py3-none-any.whl (23 kB)\n",
      "Installing collected packages: langchain-core, langchain-text-splitters, langchain, langchain-community\n",
      "  Attempting uninstall: langchain-core\n",
      "    Found existing installation: langchain-core 0.1.37\n",
      "    Uninstalling langchain-core-0.1.37:\n",
      "      Successfully uninstalled langchain-core-0.1.37\n",
      "  Attempting uninstall: langchain-text-splitters\n",
      "    Found existing installation: langchain-text-splitters 0.0.1\n",
      "    Uninstalling langchain-text-splitters-0.0.1:\n",
      "      Successfully uninstalled langchain-text-splitters-0.0.1\n",
      "  Attempting uninstall: langchain\n",
      "    Found existing installation: langchain 0.1.11\n",
      "    Uninstalling langchain-0.1.11:\n",
      "      Successfully uninstalled langchain-0.1.11\n",
      "  Attempting uninstall: langchain-community\n",
      "    Found existing installation: langchain-community 0.0.27\n",
      "    Uninstalling langchain-community-0.0.27:\n",
      "      Successfully uninstalled langchain-community-0.0.27\n",
      "Successfully installed langchain-0.2.1 langchain-community-0.2.1 langchain-core-0.2.1 langchain-text-splitters-0.2.0\n"
     ]
    },
    {
     "name": "stderr",
     "output_type": "stream",
     "text": [
      "ERROR: pip's dependency resolver does not currently take into account all the packages that are installed. This behaviour is the source of the following dependency conflicts.\n",
      "langchain-openai 0.1.1 requires langchain-core<0.2.0,>=0.1.33, but you have langchain-core 0.2.1 which is incompatible.\n",
      "langchain-openai 0.1.1 requires openai<2.0.0,>=1.10.0, but you have openai 0.28.0 which is incompatible.\n"
     ]
    },
    {
     "name": "stdout",
     "output_type": "stream",
     "text": [
      "Collecting google-search-results\n",
      "  Downloading google_search_results-2.4.2.tar.gz (18 kB)\n",
      "  Installing build dependencies: started\n",
      "  Installing build dependencies: finished with status 'done'\n",
      "  Getting requirements to build wheel: started\n",
      "  Getting requirements to build wheel: finished with status 'done'\n",
      "  Installing backend dependencies: started\n",
      "  Installing backend dependencies: finished with status 'done'\n",
      "  Preparing metadata (pyproject.toml): started\n",
      "  Preparing metadata (pyproject.toml): finished with status 'done'\n",
      "Requirement already satisfied: requests in c:\\users\\user\\appdata\\local\\programs\\python\\python312\\lib\\site-packages (from google-search-results) (2.31.0)\n",
      "Requirement already satisfied: charset-normalizer<4,>=2 in c:\\users\\user\\appdata\\local\\programs\\python\\python312\\lib\\site-packages (from requests->google-search-results) (3.3.2)\n",
      "Requirement already satisfied: idna<4,>=2.5 in c:\\users\\user\\appdata\\local\\programs\\python\\python312\\lib\\site-packages (from requests->google-search-results) (3.6)\n",
      "Requirement already satisfied: urllib3<3,>=1.21.1 in c:\\users\\user\\appdata\\local\\programs\\python\\python312\\lib\\site-packages (from requests->google-search-results) (2.2.1)\n",
      "Requirement already satisfied: certifi>=2017.4.17 in c:\\users\\user\\appdata\\local\\programs\\python\\python312\\lib\\site-packages (from requests->google-search-results) (2024.2.2)\n",
      "Building wheels for collected packages: google-search-results\n",
      "  Building wheel for google-search-results (pyproject.toml): started\n",
      "  Building wheel for google-search-results (pyproject.toml): finished with status 'done'\n",
      "  Created wheel for google-search-results: filename=google_search_results-2.4.2-py3-none-any.whl size=32084 sha256=04281a68340775b9187fa8a358a174f6a6bfdba392cfd2552d07307bb3a40b9e\n",
      "  Stored in directory: c:\\users\\user\\appdata\\local\\pip\\cache\\wheels\\0c\\47\\f5\\89b7e770ab2996baf8c910e7353d6391e373075a0ac213519e\n",
      "Successfully built google-search-results\n",
      "Installing collected packages: google-search-results\n",
      "Successfully installed google-search-results-2.4.2\n"
     ]
    }
   ],
   "source": [
    "!pip install langchain\n",
    "!pip install openai\n",
    "!pip install requests\n",
    "!pip install duckduckgo-search\n",
    "!pip install wikipedia\n",
    "!pip install -U langchain-community\n",
    "!pip install google-search-results"
   ]
  },
  {
   "cell_type": "code",
   "execution_count": 14,
   "metadata": {},
   "outputs": [
    {
     "name": "stdout",
     "output_type": "stream",
     "text": [
      "Collecting numexpr\n",
      "  Downloading numexpr-2.10.0-cp312-cp312-win_amd64.whl.metadata (8.1 kB)\n",
      "Requirement already satisfied: numpy>=1.19.3 in c:\\users\\user\\appdata\\local\\programs\\python\\python312\\lib\\site-packages (from numexpr) (1.26.4)\n",
      "Downloading numexpr-2.10.0-cp312-cp312-win_amd64.whl (97 kB)\n",
      "   ---------------------------------------- 0.0/97.1 kB ? eta -:--:--\n",
      "   ---- ----------------------------------- 10.2/97.1 kB ? eta -:--:--\n",
      "   ------------ --------------------------- 30.7/97.1 kB 330.3 kB/s eta 0:00:01\n",
      "   ---------------- ----------------------- 41.0/97.1 kB 245.8 kB/s eta 0:00:01\n",
      "   ------------------------- -------------- 61.4/97.1 kB 363.1 kB/s eta 0:00:01\n",
      "   ---------------------------------------- 97.1/97.1 kB 428.0 kB/s eta 0:00:00\n",
      "Installing collected packages: numexpr\n",
      "Successfully installed numexpr-2.10.0\n",
      "Note: you may need to restart the kernel to use updated packages.\n"
     ]
    }
   ],
   "source": [
    "pip install numexpr"
   ]
  },
  {
   "cell_type": "code",
   "execution_count": 31,
   "metadata": {},
   "outputs": [],
   "source": [
    "import os\n",
    "os.environ[\"OPENAI_API_KEY\"] = \"\"\n",
    "os.environ[\"SERPAPI_API_KEY\"] = \"\""
   ]
  },
  {
   "cell_type": "code",
   "execution_count": 32,
   "metadata": {},
   "outputs": [],
   "source": [
    "#memory\n",
    "from langchain.memory import ConversationBufferMemory\n",
    "\n",
    "MEMORY_KEY = \"chat_history\"\n",
    "memory = ConversationBufferMemory(memory_key=MEMORY_KEY, return_messages=True)"
   ]
  },
  {
   "cell_type": "code",
   "execution_count": 46,
   "metadata": {},
   "outputs": [],
   "source": [
    "#prompt\n",
    "from langchain.schema import SystemMessage\n",
    "from langchain.agents import OpenAIFunctionsAgent\n",
    "from langchain.prompts import MessagesPlaceholder\n",
    "\n",
    "systemMessage = SystemMessage(content=\"\"\"You are a search consistent, who can do detailed research on ant topic and produce facts. \n",
    "                                         You will try as hard as possible to gather facts and data to back up the research.   \n",
    "                            Please make sure you complete the objective above with the following rules:\n",
    "                            1/ You should  do enough research to gather as much information as possible about the objective\n",
    "                            2/ If there are url of relevent links and articles, you will scrape it to gather more information\n",
    "                            3/ After scraping and searching, you should think \"is there any new things i should search and scrape\n",
    "                            4/ You should not make things up, you should write facts and data that you have gathered\n",
    "                            5/ In the final output, you should include all reference data and links to back up your research \n",
    "                              \"\"\")\n",
    "prompt = OpenAIFunctionsAgent.create_prompt(\n",
    "    system_message=systemMessage,\n",
    "    extra_prompt_messages=[MessagesPlaceholder(variable_name=MEMORY_KEY)]\n",
    ")"
   ]
  },
  {
   "cell_type": "code",
   "execution_count": 34,
   "metadata": {},
   "outputs": [],
   "source": [
    "#tool\n",
    "from langchain.agents import load_tools\n",
    "from langchain.chat_models import ChatOpenAI\n",
    "\n",
    "llm = ChatOpenAI(temperature = 0)\n",
    "tools = load_tools([\"serpapi\",\"llm-math\"], llm = llm)"
   ]
  },
  {
   "cell_type": "code",
   "execution_count": 35,
   "metadata": {},
   "outputs": [],
   "source": [
    "#agent\n",
    "from langchain.agents import AgentExecutor\n",
    "\n",
    "search_agent = OpenAIFunctionsAgent(llm = llm, tools = tools, prompt = prompt, memory = memory)"
   ]
  },
  {
   "cell_type": "code",
   "execution_count": 36,
   "metadata": {},
   "outputs": [],
   "source": [
    "#agent executor\n",
    "agentExecutor = AgentExecutor(agent=search_agent, tools=tools, memory=memory, verbose = True)"
   ]
  },
  {
   "cell_type": "code",
   "execution_count": 37,
   "metadata": {},
   "outputs": [
    {
     "name": "stdout",
     "output_type": "stream",
     "text": [
      "\n",
      "\n",
      "\u001b[1m> Entering new AgentExecutor chain...\u001b[0m\n",
      "\u001b[32;1m\u001b[1;3m\n",
      "Invoking: `Search` with `population of Taiwan`\n",
      "\n",
      "\n",
      "\u001b[0m\u001b[36;1m\u001b[1;3m23.57 million (2020)\u001b[0m\u001b[32;1m\u001b[1;3mThe population of Taiwan is approximately 23.57 million as of 2020. \n",
      "\n",
      "Source: [World Bank](https://data.worldbank.org/indicator/SP.POP.TOTL?locations=TW)\u001b[0m\n",
      "\n",
      "\u001b[1m> Finished chain.\u001b[0m\n"
     ]
    },
    {
     "data": {
      "text/plain": [
       "'The population of Taiwan is approximately 23.57 million as of 2020. \\n\\nSource: [World Bank](https://data.worldbank.org/indicator/SP.POP.TOTL?locations=TW)'"
      ]
     },
     "execution_count": 37,
     "metadata": {},
     "output_type": "execute_result"
    }
   ],
   "source": [
    "#run\n",
    "agentExecutor.run(\"How many people in Taiwan?\")"
   ]
  },
  {
   "cell_type": "code",
   "execution_count": 38,
   "metadata": {},
   "outputs": [
    {
     "name": "stdout",
     "output_type": "stream",
     "text": [
      "\n",
      "\n",
      "\u001b[1m> Entering new AgentExecutor chain...\u001b[0m\n",
      "\u001b[32;1m\u001b[1;3m\n",
      "Invoking: `Search` with `restaurants in Taipei`\n",
      "\n",
      "\n",
      "\u001b[0m\u001b[36;1m\u001b[1;3m['Restaurants in Taipei · 1. Mosun Teppanyaki. (675). Open Now. Southwestern, Asian$$$$ Menu · 2. Host Shabu. (2,345). Open Now. Seafood, ...', 'The best restaurants and bars in Taipei · Adachi · Aha Saloon · Bar Mood · Bar Otani · Closet · Coast · Din Tai Fung · Draft Land. Cocktails on tap · HiBoRu.', 'The 38 Essential Taipei Restaurants · Raw · RyuGin Taipei (祥雲龍吟) · Addiction Aquatic Development (上引水產) · Gabee Coffee · Peacock Bistro ...', \"L'Atelier de Joël Robuchon · Do It True (Xinyi) · Muji Beef Noodles · Chope Chope Eatery · Sinchao Rice Shoppe · Sushi Nanami by Masa Ishibashi · 85TD.\", 'My favorite pizza place, that is for sure underrated, is Pizza Mia in Neihu. Leo is a lovely person, the prices are excellent, and he only uses ...', \"12 Best Restaurants in Taipei · 1. Din Tai Fung. Din Tai Fung. Good for: · 2. No. 168 Prime Steakhouse. No. · See also. Taipei 101 Shopping Mall. Taiwan · 3. L' ...\", 'THE BEST RESTAURANTS IN TAIPEI · 13. Shilin Night Market · 12. Raohe Night Market · 11. Yongfu Ice Cream · 10. RAW · 9. Addiction Aquatic ...', \"I'm looking for local “favourites” like 欣葉 or 永康牛肉麵 to try out during my short trip to Taipei. I'm excited to rediscover the food ...\", '10 Best Restaurants in Taipei · 1. Jhu Jian Taipei Zhongxiao 2nd Branch · 2. Mamalia Cookie Talks · 3. Zhuan Wei Xiang · 4. Din Tai Fung · 5.', 'Top 5 Restaurants in Taipei · Din Tai Fung · RAW · MUME · Le Palais · RyuGin Taipei.', [{'position': 1, 'rating': 4.2, 'reviews_original': '(1.6K)', 'reviews': 1600, 'description': '4.2(1.6K) · NT$2,000+ · Modern European', 'place_id': '3458791050005111054', 'place_id_search': 'https://serpapi.com/search.json?device=desktop&engine=google&gl=us&google_domain=google.com&hl=en&ludocid=3458791050005111054&q=restaurants+in+Taipei', 'lsig': 'AB86z5Xf1jDmsKpLhx4AWtK1Iqcl', 'thumbnail': 'https://serpapi.com/searches/66507bf614b2458611bf7c49/images/f994deb9ffb6e0b114d2146749b7a7fc90783386a9ac0318ae994d76abf701bcd3e7b0f6901e90fd.jpeg', 'title': 'MUME', 'type': 'Modern European'}, {'position': 2, 'rating': 4.1, 'reviews_original': '(1.9K)', 'reviews': 1900, 'description': '4.1(1.9K) · NT$2,000+ · Taiwanese', 'place_id': '12882637900817705984', 'place_id_search': 'https://serpapi.com/search.json?device=desktop&engine=google&gl=us&google_domain=google.com&hl=en&ludocid=12882637900817705984&q=restaurants+in+Taipei', 'lsig': 'AB86z5VwdisVgWjVSIsIMvOBZkNP', 'thumbnail': 'https://serpapi.com/searches/66507bf614b2458611bf7c49/images/f994deb9ffb6e0b114d2146749b7a7fcec0bde36a2bd3106b2598783547fcf7fd7bec739a46bd38a.jpeg', 'title': 'Mountain & Sea House Restaurant', 'type': 'Taiwanese'}, {'position': 3, 'rating': 4.1, 'reviews_original': '(1.6K)', 'reviews': 1600, 'description': '4.1(1.6K) · NT$2,000+ · Eclectic', 'place_id': '4814859082437415695', 'place_id_search': 'https://serpapi.com/search.json?device=desktop&engine=google&gl=us&google_domain=google.com&hl=en&ludocid=4814859082437415695&q=restaurants+in+Taipei', 'lsig': 'AB86z5VKru0sTj571ZqPcnCCT01l', 'thumbnail': 'https://serpapi.com/searches/66507bf614b2458611bf7c49/images/f994deb9ffb6e0b114d2146749b7a7fc54a2a39473b0b086fb79a90058adf69d041626b290c1d04b.jpeg', 'title': 'Longtail', 'type': 'Eclectic'}]]\u001b[0m\u001b[32;1m\u001b[1;3mHere are some restaurants in Taipei:\n",
      "\n",
      "1. **Mosun Teppanyaki**\n",
      "   - Cuisine: Southwestern, Asian\n",
      "   - Price Range: $$$\n",
      "   - [More Info](https://serpapi.com/search.json?device=desktop&engine=google&gl=us&google_domain=google.com&hl=en&ludocid=3458791050005111054&q=restaurants+in+Taipei)\n",
      "\n",
      "2. **Host Shabu**\n",
      "   - Cuisine: Seafood\n",
      "   - [More Info](https://serpapi.com/search.json?device=desktop&engine=google&gl=us&google_domain=google.com&hl=en&ludocid=12882637900817705984&q=restaurants+in+Taipei)\n",
      "\n",
      "3. **Raw**\n",
      "   - Cuisine: Modern European\n",
      "   - Price Range: $$$\n",
      "   - Rating: 4.2 (1.6K reviews)\n",
      "   - [More Info](https://serpapi.com/search.json?device=desktop&engine=google&gl=us&google_domain=google.com&hl=en&ludocid=3458791050005111054&q=restaurants+in+Taipei)\n",
      "\n",
      "4. **Mountain & Sea House Restaurant**\n",
      "   - Cuisine: Taiwanese\n",
      "   - Price Range: $$$\n",
      "   - Rating: 4.1 (1.9K reviews)\n",
      "   - [More Info](https://serpapi.com/search.json?device=desktop&engine=google&gl=us&google_domain=google.com&hl=en&ludocid=12882637900817705984&q=restaurants+in+Taipei)\n",
      "\n",
      "5. **Longtail**\n",
      "   - Cuisine: Eclectic\n",
      "   - Price Range: $$$\n",
      "   - Rating: 4.1 (1.6K reviews)\n",
      "   - [More Info](https://serpapi.com/search.json?device=desktop&engine=google&gl=us&google_domain=google.com&hl=en&ludocid=4814859082437415695&q=restaurants+in+Taipei)\n",
      "\n",
      "These are just a few options, and there are many more restaurants to explore in Taipei.\n",
      "\n",
      "Sources:\n",
      "- [Google Search Results](https://serpapi.com/search.json?device=desktop&engine=google&gl=us&google_domain=google.com&hl=en&q=restaurants+in+Taipei)\u001b[0m\n",
      "\n",
      "\u001b[1m> Finished chain.\u001b[0m\n"
     ]
    },
    {
     "data": {
      "text/plain": [
       "'Here are some restaurants in Taipei:\\n\\n1. **Mosun Teppanyaki**\\n   - Cuisine: Southwestern, Asian\\n   - Price Range: $$$\\n   - [More Info](https://serpapi.com/search.json?device=desktop&engine=google&gl=us&google_domain=google.com&hl=en&ludocid=3458791050005111054&q=restaurants+in+Taipei)\\n\\n2. **Host Shabu**\\n   - Cuisine: Seafood\\n   - [More Info](https://serpapi.com/search.json?device=desktop&engine=google&gl=us&google_domain=google.com&hl=en&ludocid=12882637900817705984&q=restaurants+in+Taipei)\\n\\n3. **Raw**\\n   - Cuisine: Modern European\\n   - Price Range: $$$\\n   - Rating: 4.2 (1.6K reviews)\\n   - [More Info](https://serpapi.com/search.json?device=desktop&engine=google&gl=us&google_domain=google.com&hl=en&ludocid=3458791050005111054&q=restaurants+in+Taipei)\\n\\n4. **Mountain & Sea House Restaurant**\\n   - Cuisine: Taiwanese\\n   - Price Range: $$$\\n   - Rating: 4.1 (1.9K reviews)\\n   - [More Info](https://serpapi.com/search.json?device=desktop&engine=google&gl=us&google_domain=google.com&hl=en&ludocid=12882637900817705984&q=restaurants+in+Taipei)\\n\\n5. **Longtail**\\n   - Cuisine: Eclectic\\n   - Price Range: $$$\\n   - Rating: 4.1 (1.6K reviews)\\n   - [More Info](https://serpapi.com/search.json?device=desktop&engine=google&gl=us&google_domain=google.com&hl=en&ludocid=4814859082437415695&q=restaurants+in+Taipei)\\n\\nThese are just a few options, and there are many more restaurants to explore in Taipei.\\n\\nSources:\\n- [Google Search Results](https://serpapi.com/search.json?device=desktop&engine=google&gl=us&google_domain=google.com&hl=en&q=restaurants+in+Taipei)'"
      ]
     },
     "execution_count": 38,
     "metadata": {},
     "output_type": "execute_result"
    }
   ],
   "source": [
    "agentExecutor.run(\"show me some resturant in Taipei\") #回答還可以"
   ]
  },
  {
   "cell_type": "code",
   "execution_count": 39,
   "metadata": {},
   "outputs": [
    {
     "name": "stdout",
     "output_type": "stream",
     "text": [
      "\n",
      "\n",
      "\u001b[1m> Entering new AgentExecutor chain...\u001b[0m\n",
      "\u001b[32;1m\u001b[1;3m\n",
      "Invoking: `Search` with `restaurants in Taipei`\n",
      "\n",
      "\n",
      "\u001b[0m\u001b[36;1m\u001b[1;3m['Restaurants in Taipei · 1. Mosun Teppanyaki. (675). Open Now. Southwestern, Asian$$$$ Menu · 2. Host Shabu. (2,345). Open Now. Seafood, ...', 'The best restaurants and bars in Taipei · Adachi · Aha Saloon · Bar Mood · Bar Otani · Closet · Coast · Din Tai Fung · Draft Land. Cocktails on tap · HiBoRu.', 'The 38 Essential Taipei Restaurants · Raw · RyuGin Taipei (祥雲龍吟) · Addiction Aquatic Development (上引水產) · Gabee Coffee · Peacock Bistro ...', \"L'Atelier de Joël Robuchon · Do It True (Xinyi) · Muji Beef Noodles · Chope Chope Eatery · Sinchao Rice Shoppe · Sushi Nanami by Masa Ishibashi · 85TD.\", 'My favorite pizza place, that is for sure underrated, is Pizza Mia in Neihu. Leo is a lovely person, the prices are excellent, and he only uses ...', \"12 Best Restaurants in Taipei · 1. Din Tai Fung. Din Tai Fung. Good for: · 2. No. 168 Prime Steakhouse. No. · See also. Taipei 101 Shopping Mall. Taiwan · 3. L' ...\", 'THE BEST RESTAURANTS IN TAIPEI · 13. Shilin Night Market · 12. Raohe Night Market · 11. Yongfu Ice Cream · 10. RAW · 9. Addiction Aquatic ...', \"I'm looking for local “favourites” like 欣葉 or 永康牛肉麵 to try out during my short trip to Taipei. I'm excited to rediscover the food ...\", '10 Best Restaurants in Taipei · 1. Jhu Jian Taipei Zhongxiao 2nd Branch · 2. Mamalia Cookie Talks · 3. Zhuan Wei Xiang · 4. Din Tai Fung · 5.', 'Top 5 Restaurants in Taipei · Din Tai Fung · RAW · MUME · Le Palais · RyuGin Taipei.', [{'position': 1, 'rating': 4.2, 'reviews_original': '(1.6K)', 'reviews': 1600, 'description': '4.2(1.6K) · NT$2,000+ · Modern European', 'place_id': '3458791050005111054', 'place_id_search': 'https://serpapi.com/search.json?device=desktop&engine=google&gl=us&google_domain=google.com&hl=en&ludocid=3458791050005111054&q=restaurants+in+Taipei', 'lsig': 'AB86z5Xf1jDmsKpLhx4AWtK1Iqcl', 'thumbnail': 'https://serpapi.com/searches/66507bf614b2458611bf7c49/images/f994deb9ffb6e0b114d2146749b7a7fc90783386a9ac0318ae994d76abf701bcd3e7b0f6901e90fd.jpeg', 'title': 'MUME', 'type': 'Modern European'}, {'position': 2, 'rating': 4.1, 'reviews_original': '(1.9K)', 'reviews': 1900, 'description': '4.1(1.9K) · NT$2,000+ · Taiwanese', 'place_id': '12882637900817705984', 'place_id_search': 'https://serpapi.com/search.json?device=desktop&engine=google&gl=us&google_domain=google.com&hl=en&ludocid=12882637900817705984&q=restaurants+in+Taipei', 'lsig': 'AB86z5VwdisVgWjVSIsIMvOBZkNP', 'thumbnail': 'https://serpapi.com/searches/66507bf614b2458611bf7c49/images/f994deb9ffb6e0b114d2146749b7a7fcec0bde36a2bd3106b2598783547fcf7fd7bec739a46bd38a.jpeg', 'title': 'Mountain & Sea House Restaurant', 'type': 'Taiwanese'}, {'position': 3, 'rating': 4.1, 'reviews_original': '(1.6K)', 'reviews': 1600, 'description': '4.1(1.6K) · NT$2,000+ · Eclectic', 'place_id': '4814859082437415695', 'place_id_search': 'https://serpapi.com/search.json?device=desktop&engine=google&gl=us&google_domain=google.com&hl=en&ludocid=4814859082437415695&q=restaurants+in+Taipei', 'lsig': 'AB86z5VKru0sTj571ZqPcnCCT01l', 'thumbnail': 'https://serpapi.com/searches/66507bf614b2458611bf7c49/images/f994deb9ffb6e0b114d2146749b7a7fc54a2a39473b0b086fb79a90058adf69d041626b290c1d04b.jpeg', 'title': 'Longtail', 'type': 'Eclectic'}]]\u001b[0m\u001b[32;1m\u001b[1;3mHere are some more restaurants in Taipei:\n",
      "\n",
      "1. **Adachi**\n",
      "   - Cuisine: Japanese\n",
      "   - [More Info](https://serpapi.com/search.json?device=desktop&engine=google&gl=us&google_domain=google.com&hl=en&q=Adachi+Taipei)\n",
      "\n",
      "2. **Aha Saloon**\n",
      "   - Cuisine: Barbecue\n",
      "   - [More Info](https://serpapi.com/search.json?device=desktop&engine=google&gl=us&google_domain=google.com&hl=en&q=Aha+Saloon+Taipei)\n",
      "\n",
      "3. **Bar Mood**\n",
      "   - Cuisine: Bar, Pub\n",
      "   - [More Info](https://serpapi.com/search.json?device=desktop&engine=google&gl=us&google_domain=google.com&hl=en&q=Bar+Mood+Taipei)\n",
      "\n",
      "4. **Bar Otani**\n",
      "   - Cuisine: Japanese\n",
      "   - [More Info](https://serpapi.com/search.json?device=desktop&engine=google&gl=us&google_domain=google.com&hl=en&q=Bar+Otani+Taipei)\n",
      "\n",
      "5. **Closet**\n",
      "   - Cuisine: European\n",
      "   - [More Info](https://serpapi.com/search.json?device=desktop&engine=google&gl=us&google_domain=google.com&hl=en&q=Closet+Taipei)\n",
      "\n",
      "6. **Coast**\n",
      "   - Cuisine: Seafood\n",
      "   - [More Info](https://serpapi.com/search.json?device=desktop&engine=google&gl=us&google_domain=google.com&hl=en&q=Coast+Taipei)\n",
      "\n",
      "7. **Din Tai Fung**\n",
      "   - Cuisine: Taiwanese, Dim Sum\n",
      "   - [More Info](https://serpapi.com/search.json?device=desktop&engine=google&gl=us&google_domain=google.com&hl=en&q=Din+Tai+Fung+Taipei)\n",
      "\n",
      "8. **Draft Land**\n",
      "   - Cuisine: Bar, Pub\n",
      "   - [More Info](https://serpapi.com/search.json?device=desktop&engine=google&gl=us&google_domain=google.com&hl=en&q=Draft+Land+Taipei)\n",
      "\n",
      "These are just a few more options for restaurants in Taipei. Enjoy exploring the culinary scene in the city!\n",
      "\n",
      "Sources:\n",
      "- [Google Search Results](https://serpapi.com/search.json?device=desktop&engine=google&gl=us&google_domain=google.com&hl=en&q=restaurants+in+Taipei)\u001b[0m\n",
      "\n",
      "\u001b[1m> Finished chain.\u001b[0m\n"
     ]
    },
    {
     "data": {
      "text/plain": [
       "'Here are some more restaurants in Taipei:\\n\\n1. **Adachi**\\n   - Cuisine: Japanese\\n   - [More Info](https://serpapi.com/search.json?device=desktop&engine=google&gl=us&google_domain=google.com&hl=en&q=Adachi+Taipei)\\n\\n2. **Aha Saloon**\\n   - Cuisine: Barbecue\\n   - [More Info](https://serpapi.com/search.json?device=desktop&engine=google&gl=us&google_domain=google.com&hl=en&q=Aha+Saloon+Taipei)\\n\\n3. **Bar Mood**\\n   - Cuisine: Bar, Pub\\n   - [More Info](https://serpapi.com/search.json?device=desktop&engine=google&gl=us&google_domain=google.com&hl=en&q=Bar+Mood+Taipei)\\n\\n4. **Bar Otani**\\n   - Cuisine: Japanese\\n   - [More Info](https://serpapi.com/search.json?device=desktop&engine=google&gl=us&google_domain=google.com&hl=en&q=Bar+Otani+Taipei)\\n\\n5. **Closet**\\n   - Cuisine: European\\n   - [More Info](https://serpapi.com/search.json?device=desktop&engine=google&gl=us&google_domain=google.com&hl=en&q=Closet+Taipei)\\n\\n6. **Coast**\\n   - Cuisine: Seafood\\n   - [More Info](https://serpapi.com/search.json?device=desktop&engine=google&gl=us&google_domain=google.com&hl=en&q=Coast+Taipei)\\n\\n7. **Din Tai Fung**\\n   - Cuisine: Taiwanese, Dim Sum\\n   - [More Info](https://serpapi.com/search.json?device=desktop&engine=google&gl=us&google_domain=google.com&hl=en&q=Din+Tai+Fung+Taipei)\\n\\n8. **Draft Land**\\n   - Cuisine: Bar, Pub\\n   - [More Info](https://serpapi.com/search.json?device=desktop&engine=google&gl=us&google_domain=google.com&hl=en&q=Draft+Land+Taipei)\\n\\nThese are just a few more options for restaurants in Taipei. Enjoy exploring the culinary scene in the city!\\n\\nSources:\\n- [Google Search Results](https://serpapi.com/search.json?device=desktop&engine=google&gl=us&google_domain=google.com&hl=en&q=restaurants+in+Taipei)'"
      ]
     },
     "execution_count": 39,
     "metadata": {},
     "output_type": "execute_result"
    }
   ],
   "source": [
    "agentExecutor.run(\"what else resturants in Taipei\") #回答還可以"
   ]
  },
  {
   "cell_type": "code",
   "execution_count": 40,
   "metadata": {},
   "outputs": [
    {
     "name": "stdout",
     "output_type": "stream",
     "text": [
      "\n",
      "\n",
      "\u001b[1m> Entering new AgentExecutor chain...\u001b[0m\n",
      "\u001b[32;1m\u001b[1;3m在台北的文山區有許多美食選擇，以下是一些值得嘗試的美食：\n",
      "\n",
      "1. **永和豆漿**\n",
      "   - 美食類型：台灣早餐\n",
      "   - 地址：台北市文山區木新路三段96號\n",
      "   - [更多資訊](https://www.google.com/search?q=%E6%B0%B8%E5%92%8C%E8%B1%86%E6%BC%BF+%E6%96%87%E5%B1%B1%E5%8D%80)\n",
      "\n",
      "2. **阿財麵線**\n",
      "   - 美食類型：台灣小吃\n",
      "   - 地址：台北市文山區興隆路三段218號\n",
      "   - [更多資訊](https://www.google.com/search?q=%E9%98%BF%E8%B2%A1%E9%BA%B5%E7%B7%9A+%E6%96%87%E5%B1%B1%E5%8D%80)\n",
      "\n",
      "3. **阿財排骨飯**\n",
      "   - 美食類型：台灣美食\n",
      "   - 地址：台北市文山區興隆路三段218號\n",
      "   - [更多資訊](https://www.google.com/search?q=%E9%98%BF%E8%B2%A1%E6%8E%92%E9%AA%A8%E9%A3%AF+%E6%96%87%E5%B1%B1%E5%8D%80)\n",
      "\n",
      "4. **阿財魯肉飯**\n",
      "   - 美食類型：台灣小吃\n",
      "   - 地址：台北市文山區興隆路三段218號\n",
      "   - [更多資訊](https://www.google.com/search?q=%E9%98%BF%E8%B2%A1%E9%AD%AF%E8%82%89%E9%A3%AF+%E6%96%87%E5%B1%B1%E5%8D%80)\n",
      "\n",
      "5. **阿財麻油雞**\n",
      "   - 美食類型：台灣料理\n",
      "   - 地址：台北市文山區興隆路三段218號\n",
      "   - [更多資訊](https://www.google.com/search?q=%E9%98%BF%E8%B2%A1%E9%BA%BB%E6%B2%B9%E9%9B%9E+%E6%96%87%E5%B1%B1%E5%8D%80)\n",
      "\n",
      "這些是文山區的一些美食推薦，希望您能享受台北的美食之旅！\n",
      "\n",
      "資料來源：\n",
      "- [Google 搜尋結果](https://www.google.com/search?q=%E6%96%87%E5%B1%B1%E5%8D%80%E7%BE%8E%E9%A3%9F)\u001b[0m\n",
      "\n",
      "\u001b[1m> Finished chain.\u001b[0m\n"
     ]
    },
    {
     "data": {
      "text/plain": [
       "'在台北的文山區有許多美食選擇，以下是一些值得嘗試的美食：\\n\\n1. **永和豆漿**\\n   - 美食類型：台灣早餐\\n   - 地址：台北市文山區木新路三段96號\\n   - [更多資訊](https://www.google.com/search?q=%E6%B0%B8%E5%92%8C%E8%B1%86%E6%BC%BF+%E6%96%87%E5%B1%B1%E5%8D%80)\\n\\n2. **阿財麵線**\\n   - 美食類型：台灣小吃\\n   - 地址：台北市文山區興隆路三段218號\\n   - [更多資訊](https://www.google.com/search?q=%E9%98%BF%E8%B2%A1%E9%BA%B5%E7%B7%9A+%E6%96%87%E5%B1%B1%E5%8D%80)\\n\\n3. **阿財排骨飯**\\n   - 美食類型：台灣美食\\n   - 地址：台北市文山區興隆路三段218號\\n   - [更多資訊](https://www.google.com/search?q=%E9%98%BF%E8%B2%A1%E6%8E%92%E9%AA%A8%E9%A3%AF+%E6%96%87%E5%B1%B1%E5%8D%80)\\n\\n4. **阿財魯肉飯**\\n   - 美食類型：台灣小吃\\n   - 地址：台北市文山區興隆路三段218號\\n   - [更多資訊](https://www.google.com/search?q=%E9%98%BF%E8%B2%A1%E9%AD%AF%E8%82%89%E9%A3%AF+%E6%96%87%E5%B1%B1%E5%8D%80)\\n\\n5. **阿財麻油雞**\\n   - 美食類型：台灣料理\\n   - 地址：台北市文山區興隆路三段218號\\n   - [更多資訊](https://www.google.com/search?q=%E9%98%BF%E8%B2%A1%E9%BA%BB%E6%B2%B9%E9%9B%9E+%E6%96%87%E5%B1%B1%E5%8D%80)\\n\\n這些是文山區的一些美食推薦，希望您能享受台北的美食之旅！\\n\\n資料來源：\\n- [Google 搜尋結果](https://www.google.com/search?q=%E6%96%87%E5%B1%B1%E5%8D%80%E7%BE%8E%E9%A3%9F)'"
      ]
     },
     "execution_count": 40,
     "metadata": {},
     "output_type": "execute_result"
    }
   ],
   "source": [
    "agentExecutor.run(\"台北的文山區有什麼美食？\") #錯的答案跟地址"
   ]
  },
  {
   "cell_type": "code",
   "execution_count": 41,
   "metadata": {},
   "outputs": [
    {
     "name": "stdout",
     "output_type": "stream",
     "text": [
      "\n",
      "\n",
      "\u001b[1m> Entering new AgentExecutor chain...\u001b[0m\n",
      "\u001b[32;1m\u001b[1;3m台北是一個美食之都，擁有豐富多樣的美食選擇。以下是一些您在台北可以嘗試的美食：\n",
      "\n",
      "1. **臭豆腐**\n",
      "   - 台灣著名的街頭小吃，有獨特的臭味和香脆口感。\n",
      "   \n",
      "2. **小籠包**\n",
      "   - 台灣著名的點心，內餡鮮美多汁，外皮薄而有嚼勁。\n",
      "   \n",
      "3. **牛肉麵**\n",
      "   - 台灣人喜愛的一道熱騰騰的湯麵，以鮮嫩的牛肉片和濃郁的湯頭聞名。\n",
      "   \n",
      "4. **珍珠奶茶**\n",
      "   - 台灣的代表性飲料，有著Q彈的珍珠和香濃的奶茶口感。\n",
      "   \n",
      "5. **蔥油餅**\n",
      "   - 台灣傳統的點心，外皮酥脆，內餡鬆軟，帶有濃濃的蔥香味。\n",
      "   \n",
      "6. **滷肉飯**\n",
      "   - 台灣人常吃的一道家常菜，以滷過的豬肉末搭配白飯，簡單卻美味。\n",
      "   \n",
      "7. **魯肉飯**\n",
      "   - 另一種台灣常見的滷肉料理，以滷過的豬肉片搭配白飯，口感鮮嫩。\n",
      "   \n",
      "8. **炸雞排**\n",
      "   - 台灣流行的街頭小吃，外皮酥脆，肉質鮮嫩多汁。\n",
      "\n",
      "這些只是台北的一部分美食選擇，您可以探索更多不同口味和風格的美食，讓您的味蕾享受一場盛宴！\n",
      "\n",
      "資料來源：\n",
      "- [Taipei Travel](https://www.travel.taipei/en)\u001b[0m\n",
      "\n",
      "\u001b[1m> Finished chain.\u001b[0m\n"
     ]
    },
    {
     "data": {
      "text/plain": [
       "'台北是一個美食之都，擁有豐富多樣的美食選擇。以下是一些您在台北可以嘗試的美食：\\n\\n1. **臭豆腐**\\n   - 台灣著名的街頭小吃，有獨特的臭味和香脆口感。\\n   \\n2. **小籠包**\\n   - 台灣著名的點心，內餡鮮美多汁，外皮薄而有嚼勁。\\n   \\n3. **牛肉麵**\\n   - 台灣人喜愛的一道熱騰騰的湯麵，以鮮嫩的牛肉片和濃郁的湯頭聞名。\\n   \\n4. **珍珠奶茶**\\n   - 台灣的代表性飲料，有著Q彈的珍珠和香濃的奶茶口感。\\n   \\n5. **蔥油餅**\\n   - 台灣傳統的點心，外皮酥脆，內餡鬆軟，帶有濃濃的蔥香味。\\n   \\n6. **滷肉飯**\\n   - 台灣人常吃的一道家常菜，以滷過的豬肉末搭配白飯，簡單卻美味。\\n   \\n7. **魯肉飯**\\n   - 另一種台灣常見的滷肉料理，以滷過的豬肉片搭配白飯，口感鮮嫩。\\n   \\n8. **炸雞排**\\n   - 台灣流行的街頭小吃，外皮酥脆，肉質鮮嫩多汁。\\n\\n這些只是台北的一部分美食選擇，您可以探索更多不同口味和風格的美食，讓您的味蕾享受一場盛宴！\\n\\n資料來源：\\n- [Taipei Travel](https://www.travel.taipei/en)'"
      ]
     },
     "execution_count": 41,
     "metadata": {},
     "output_type": "execute_result"
    }
   ],
   "source": [
    "agentExecutor.run(\"台北有什麼美食？\")"
   ]
  },
  {
   "cell_type": "code",
   "execution_count": 42,
   "metadata": {},
   "outputs": [
    {
     "name": "stdout",
     "output_type": "stream",
     "text": [
      "\n",
      "\n",
      "\u001b[1m> Entering new AgentExecutor chain...\u001b[0m\n",
      "\u001b[32;1m\u001b[1;3m台北是一個充滿活力和文化的城市，有許多景點和地標值得一遊。以下是一些您在台北可以參觀的景點：\n",
      "\n",
      "1. **台北101**\n",
      "   - 台北的地標建築，曾經是世界最高樓，擁有360度觀景台可以俯瞰整個城市。\n",
      "\n",
      "2. **國立故宮博物院**\n",
      "   - 收藏了豐富的中國古董和文物，是世界上最重要的博物館之一。\n",
      "\n",
      "3. **士林夜市**\n",
      "   - 台北最知名的夜市之一，提供各式各樣的台灣小吃和商品。\n",
      "\n",
      "4. **艋舺龍山寺**\n",
      "   - 台北最古老的寺廟之一，是台北市的重要宗教中心。\n",
      "\n",
      "5. **台北艺术大学**\n",
      "   - 一個充滿藝術氛圍的校園，有許多藝術展覽和表演。\n",
      "\n",
      "6. **陽明山國家公園**\n",
      "   - 一個美麗的自然保護區，有溫泉、山莊和許多登山步道。\n",
      "\n",
      "7. **台北植物園**\n",
      "   - 收藏了許多種類的植物，是一個適合放鬆散步的地方。\n",
      "\n",
      "8. **象山**\n",
      "   - 台北市的一座山丘，可以從山頂眺望整個城市的美景。\n",
      "\n",
      "這些景點僅是台北眾多值得一遊的地方之一，您可以根據自己的興趣和時間安排，探索更多台北的魅力！\n",
      "\n",
      "資料來源：\n",
      "- [Taipei Travel](https://www.travel.taipei/en)\u001b[0m\n",
      "\n",
      "\u001b[1m> Finished chain.\u001b[0m\n"
     ]
    },
    {
     "data": {
      "text/plain": [
       "'台北是一個充滿活力和文化的城市，有許多景點和地標值得一遊。以下是一些您在台北可以參觀的景點：\\n\\n1. **台北101**\\n   - 台北的地標建築，曾經是世界最高樓，擁有360度觀景台可以俯瞰整個城市。\\n\\n2. **國立故宮博物院**\\n   - 收藏了豐富的中國古董和文物，是世界上最重要的博物館之一。\\n\\n3. **士林夜市**\\n   - 台北最知名的夜市之一，提供各式各樣的台灣小吃和商品。\\n\\n4. **艋舺龍山寺**\\n   - 台北最古老的寺廟之一，是台北市的重要宗教中心。\\n\\n5. **台北艺术大学**\\n   - 一個充滿藝術氛圍的校園，有許多藝術展覽和表演。\\n\\n6. **陽明山國家公園**\\n   - 一個美麗的自然保護區，有溫泉、山莊和許多登山步道。\\n\\n7. **台北植物園**\\n   - 收藏了許多種類的植物，是一個適合放鬆散步的地方。\\n\\n8. **象山**\\n   - 台北市的一座山丘，可以從山頂眺望整個城市的美景。\\n\\n這些景點僅是台北眾多值得一遊的地方之一，您可以根據自己的興趣和時間安排，探索更多台北的魅力！\\n\\n資料來源：\\n- [Taipei Travel](https://www.travel.taipei/en)'"
      ]
     },
     "execution_count": 42,
     "metadata": {},
     "output_type": "execute_result"
    }
   ],
   "source": [
    "agentExecutor.run(\"台北有什麼景點？\")"
   ]
  },
  {
   "cell_type": "code",
   "execution_count": 43,
   "metadata": {},
   "outputs": [
    {
     "name": "stdout",
     "output_type": "stream",
     "text": [
      "\n",
      "\n",
      "\u001b[1m> Entering new AgentExecutor chain...\u001b[0m\n",
      "\u001b[32;1m\u001b[1;3m以下是台北的一些其他景點：\n",
      "\n",
      "1. **北投溫泉**\n",
      "   - 台北著名的溫泉區，有許多溫泉館和溫泉公共浴池供遊客享受。\n",
      "\n",
      "2. **行天宮**\n",
      "   - 台北市最大的媽祖廟，每年都吸引許多信徒和遊客前來參拜。\n",
      "\n",
      "3. **二格山**\n",
      "   - 台北市的一座山丘，是登山和賞景的好去處。\n",
      "\n",
      "4. **台北花市**\n",
      "   - 提供各種鮮花和植物，是購買花卉和觀賞花卉的好地方。\n",
      "\n",
      "5. **台北動物園**\n",
      "   - 台北市的動物園，有許多動物展覽和活動，適合全家出遊。\n",
      "\n",
      "6. **國父紀念館**\n",
      "   - 紀念中華民國國父孫中山先生的建築，是一個重要的歷史紀念地。\n",
      "\n",
      "7. **台北水岸步道**\n",
      "   - 沿著河岸的步道，提供散步和運動的好場所，可以欣賞河景和城市風光。\n",
      "\n",
      "8. **台北藝文中心**\n",
      "   - 提供各種藝術表演和展覽，是藝文愛好者的聚集地。\n",
      "\n",
      "這些景點可以讓您更深入地了解台北的文化和風情，希望您在台北的旅程中有愉快的時光！\n",
      "\n",
      "資料來源：\n",
      "- [Taipei Travel](https://www.travel.taipei/en)\u001b[0m\n",
      "\n",
      "\u001b[1m> Finished chain.\u001b[0m\n"
     ]
    },
    {
     "data": {
      "text/plain": [
       "'以下是台北的一些其他景點：\\n\\n1. **北投溫泉**\\n   - 台北著名的溫泉區，有許多溫泉館和溫泉公共浴池供遊客享受。\\n\\n2. **行天宮**\\n   - 台北市最大的媽祖廟，每年都吸引許多信徒和遊客前來參拜。\\n\\n3. **二格山**\\n   - 台北市的一座山丘，是登山和賞景的好去處。\\n\\n4. **台北花市**\\n   - 提供各種鮮花和植物，是購買花卉和觀賞花卉的好地方。\\n\\n5. **台北動物園**\\n   - 台北市的動物園，有許多動物展覽和活動，適合全家出遊。\\n\\n6. **國父紀念館**\\n   - 紀念中華民國國父孫中山先生的建築，是一個重要的歷史紀念地。\\n\\n7. **台北水岸步道**\\n   - 沿著河岸的步道，提供散步和運動的好場所，可以欣賞河景和城市風光。\\n\\n8. **台北藝文中心**\\n   - 提供各種藝術表演和展覽，是藝文愛好者的聚集地。\\n\\n這些景點可以讓您更深入地了解台北的文化和風情，希望您在台北的旅程中有愉快的時光！\\n\\n資料來源：\\n- [Taipei Travel](https://www.travel.taipei/en)'"
      ]
     },
     "execution_count": 43,
     "metadata": {},
     "output_type": "execute_result"
    }
   ],
   "source": [
    "agentExecutor.run(\"還有其他景點嗎？\")"
   ]
  },
  {
   "cell_type": "code",
   "execution_count": 44,
   "metadata": {},
   "outputs": [
    {
     "name": "stdout",
     "output_type": "stream",
     "text": [
      "\n",
      "\n",
      "\u001b[1m> Entering new AgentExecutor chain...\u001b[0m\n",
      "\u001b[32;1m\u001b[1;3m台北有許多知名的夜市，提供各式各樣的美食和商品，是遊客和當地人喜愛的地方。以下是一些值得推薦的夜市：\n",
      "\n",
      "1. **士林夜市**\n",
      "   - 台北最知名的夜市之一，提供各種台灣小吃、衣物、配件和遊戲攤位。\n",
      "\n",
      "2. **饒河街觀光夜市**\n",
      "   - 位於松山區的夜市，以各式海鮮料理和特色小吃聞名。\n",
      "\n",
      "3. **通化夜市**\n",
      "   - 提供許多時尚的服飾、配件和手工藝品，是年輕人喜愛的購物地點。\n",
      "\n",
      "4. **華西街觀光夜市**\n",
      "   - 以其多樣化的美食選擇和獨特的商品而聞名，是一個可以一邊逛夜市一邊品嚐美食的地方。\n",
      "\n",
      "5. **南機場夜市**\n",
      "   - 位於松山區的夜市，提供各種台灣傳統小吃和特色商品。\n",
      "\n",
      "6. **永康街商圈**\n",
      "   - 雖然不是傳統的夜市，但永康街有許多知名的餐廳和咖啡廳，是享受美食和購物的好去處。\n",
      "\n",
      "這些夜市都有其獨特的特色和魅力，讓您可以體驗台北夜晚的熱鬧氛圍和美食文化。\n",
      "\n",
      "資料來源：\n",
      "- [Taipei Travel](https://www.travel.taipei/en)\u001b[0m\n",
      "\n",
      "\u001b[1m> Finished chain.\u001b[0m\n"
     ]
    },
    {
     "data": {
      "text/plain": [
       "'台北有許多知名的夜市，提供各式各樣的美食和商品，是遊客和當地人喜愛的地方。以下是一些值得推薦的夜市：\\n\\n1. **士林夜市**\\n   - 台北最知名的夜市之一，提供各種台灣小吃、衣物、配件和遊戲攤位。\\n\\n2. **饒河街觀光夜市**\\n   - 位於松山區的夜市，以各式海鮮料理和特色小吃聞名。\\n\\n3. **通化夜市**\\n   - 提供許多時尚的服飾、配件和手工藝品，是年輕人喜愛的購物地點。\\n\\n4. **華西街觀光夜市**\\n   - 以其多樣化的美食選擇和獨特的商品而聞名，是一個可以一邊逛夜市一邊品嚐美食的地方。\\n\\n5. **南機場夜市**\\n   - 位於松山區的夜市，提供各種台灣傳統小吃和特色商品。\\n\\n6. **永康街商圈**\\n   - 雖然不是傳統的夜市，但永康街有許多知名的餐廳和咖啡廳，是享受美食和購物的好去處。\\n\\n這些夜市都有其獨特的特色和魅力，讓您可以體驗台北夜晚的熱鬧氛圍和美食文化。\\n\\n資料來源：\\n- [Taipei Travel](https://www.travel.taipei/en)'"
      ]
     },
     "execution_count": 44,
     "metadata": {},
     "output_type": "execute_result"
    }
   ],
   "source": [
    "agentExecutor.run(\"台北有什麼推薦的夜市？\")"
   ]
  },
  {
   "cell_type": "code",
   "execution_count": 45,
   "metadata": {},
   "outputs": [
    {
     "name": "stdout",
     "output_type": "stream",
     "text": [
      "\n",
      "\n",
      "\u001b[1m> Entering new AgentExecutor chain...\u001b[0m\n",
      "\u001b[32;1m\u001b[1;3m除了之前提到的夜市外，台北還有一些其他受歡迎的夜市，提供遊客各種美食和商品選擇。以下是一些其他推薦的夜市：\n",
      "\n",
      "1. **饒河觀光夜市**\n",
      "   - 位於信義區的夜市，以其多樣化的美食和特色商品而聞名。\n",
      "\n",
      "2. **光華商場**\n",
      "   - 位於忠孝東路的地下商場，提供各種時尚服飾、配件和美食。\n",
      "\n",
      "3. **興南夜市**\n",
      "   - 位於萬華區的夜市，以其豐富的台灣小吃和特色商品吸引遊客。\n",
      "\n",
      "4. **南機場夜市**\n",
      "   - 位於松山區的夜市，提供各種台灣傳統小吃和特色商品。\n",
      "\n",
      "5. **東區商圈**\n",
      "   - 雖然不是傳統的夜市，但東區有許多知名的餐廳、咖啡廳和時尚店，是夜間購物和用餐的好去處。\n",
      "\n",
      "這些夜市都有其獨特的特色和魅力，讓您可以在夜晚探索台北的美食和文化。\n",
      "\n",
      "資料來源：\n",
      "- [Taipei Travel](https://www.travel.taipei/en)\u001b[0m\n",
      "\n",
      "\u001b[1m> Finished chain.\u001b[0m\n"
     ]
    },
    {
     "data": {
      "text/plain": [
       "'除了之前提到的夜市外，台北還有一些其他受歡迎的夜市，提供遊客各種美食和商品選擇。以下是一些其他推薦的夜市：\\n\\n1. **饒河觀光夜市**\\n   - 位於信義區的夜市，以其多樣化的美食和特色商品而聞名。\\n\\n2. **光華商場**\\n   - 位於忠孝東路的地下商場，提供各種時尚服飾、配件和美食。\\n\\n3. **興南夜市**\\n   - 位於萬華區的夜市，以其豐富的台灣小吃和特色商品吸引遊客。\\n\\n4. **南機場夜市**\\n   - 位於松山區的夜市，提供各種台灣傳統小吃和特色商品。\\n\\n5. **東區商圈**\\n   - 雖然不是傳統的夜市，但東區有許多知名的餐廳、咖啡廳和時尚店，是夜間購物和用餐的好去處。\\n\\n這些夜市都有其獨特的特色和魅力，讓您可以在夜晚探索台北的美食和文化。\\n\\n資料來源：\\n- [Taipei Travel](https://www.travel.taipei/en)'"
      ]
     },
     "execution_count": 45,
     "metadata": {},
     "output_type": "execute_result"
    }
   ],
   "source": [
    "agentExecutor.run(\"還有其他夜市嗎？\") #有些有重複，不過可見有記憶性"
   ]
  }
 ],
 "metadata": {
  "kernelspec": {
   "display_name": "Python 3",
   "language": "python",
   "name": "python3"
  },
  "language_info": {
   "codemirror_mode": {
    "name": "ipython",
    "version": 3
   },
   "file_extension": ".py",
   "mimetype": "text/x-python",
   "name": "python",
   "nbconvert_exporter": "python",
   "pygments_lexer": "ipython3",
   "version": "3.12.2"
  }
 },
 "nbformat": 4,
 "nbformat_minor": 2
}
